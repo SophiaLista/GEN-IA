{
  "cells": [
    {
      "cell_type": "code",
      "source": [
        "!pip install openai\n"
      ],
      "metadata": {
        "id": "nlWqMcP8fZdk",
        "collapsed": true
      },
      "execution_count": null,
      "outputs": []
    },
    {
      "cell_type": "code",
      "execution_count": null,
      "metadata": {
        "id": "NYioocfbafj9"
      },
      "outputs": [],
      "source": [
        "import openai\n",
        "import numpy as np"
      ]
    },
    {
      "cell_type": "code",
      "source": [
        "from google.colab import userdata\n",
        "client = openai.OpenAI(api_key=userdata.get('OPENAI_API_KEY'))"
      ],
      "metadata": {
        "id": "qMkEVLVKg73B"
      },
      "execution_count": null,
      "outputs": []
    },
    {
      "cell_type": "code",
      "execution_count": null,
      "metadata": {
        "id": "fwfqjmI0afj_"
      },
      "outputs": [],
      "source": [
        "embedding = client.embeddings.create(\n",
        "    model='text-embedding-3-small',\n",
        "    input='Este es un embedding'\n",
        ")"
      ]
    },
    {
      "cell_type": "code",
      "execution_count": null,
      "metadata": {
        "collapsed": true,
        "id": "M1Avathvafj_"
      },
      "outputs": [],
      "source": [
        "embedding"
      ]
    },
    {
      "cell_type": "code",
      "execution_count": null,
      "metadata": {
        "collapsed": true,
        "id": "si647vbnafj_"
      },
      "outputs": [],
      "source": [
        "embedding.data[0].embedding"
      ]
    },
    {
      "cell_type": "code",
      "execution_count": null,
      "metadata": {
        "id": "klkPZzX4afkA"
      },
      "outputs": [],
      "source": [
        "len(embedding.data[0].embedding)"
      ]
    },
    {
      "cell_type": "code",
      "execution_count": null,
      "metadata": {
        "id": "3Tii-UydafkA"
      },
      "outputs": [],
      "source": [
        "def crear_embedding(text, model='text-embedding-3-small'):\n",
        "\treturn client.embeddings.create(\n",
        "    model=model,\n",
        "    input=text\n",
        ").data[0].embedding\n"
      ]
    },
    {
      "cell_type": "code",
      "execution_count": null,
      "metadata": {
        "id": "cBbvh76UafkA"
      },
      "outputs": [],
      "source": [
        "def similitud_del_coseno(v,w):\n",
        "    v = np.array(v)\n",
        "    w = np.array(w)\n",
        "    producto_interno = np.dot(v,w)\n",
        "    normv = np.linalg.norm(v)\n",
        "    normw = np.linalg.norm(w)\n",
        "    return producto_interno / (normv * normw)"
      ]
    },
    {
      "cell_type": "code",
      "execution_count": null,
      "metadata": {
        "id": "uqej3uaGafkA"
      },
      "outputs": [],
      "source": [
        "palabras= [\n",
        "\t'cuchara',\n",
        "\t'tenedor',\n",
        "\t'avion',\n",
        "\t'helipcotero'\n",
        "]"
      ]
    },
    {
      "cell_type": "code",
      "execution_count": null,
      "metadata": {
        "id": "Ew5PeL1dafkA"
      },
      "outputs": [],
      "source": [
        "embeddings = [(palabra, crear_embedding(palabra)) for palabra in palabras]"
      ]
    },
    {
      "cell_type": "code",
      "execution_count": null,
      "metadata": {
        "id": "tDLcBEnzafkA"
      },
      "outputs": [],
      "source": [
        "print('comparación')\n",
        "for palabra, embedding in embeddings:\n",
        "\tprint(f'{palabra}: {similitud_del_coseno(embedding, embeddings[0][1])}')"
      ]
    }
  ],
  "metadata": {
    "kernelspec": {
      "display_name": "Python 3",
      "language": "python",
      "name": "python3"
    },
    "language_info": {
      "codemirror_mode": {
        "name": "ipython",
        "version": 3
      },
      "file_extension": ".py",
      "mimetype": "text/x-python",
      "name": "python",
      "nbconvert_exporter": "python",
      "pygments_lexer": "ipython3",
      "version": "3.12.4"
    },
    "colab": {
      "provenance": []
    }
  },
  "nbformat": 4,
  "nbformat_minor": 0
}